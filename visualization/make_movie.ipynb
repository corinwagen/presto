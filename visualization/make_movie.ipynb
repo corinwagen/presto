{
 "cells": [
  {
   "cell_type": "code",
   "execution_count": 9,
   "metadata": {},
   "outputs": [
    {
     "name": "stdout",
     "output_type": "stream",
     "text": [
      "pytraj.TrajectoryIterator, 459 frames: \n",
      "Size: 0.000718 (GB)\n",
      "<Topology: 70 atoms, 64 residues, 0 mols, non-PBC>\n",
      "           \n",
      "NGLWidget(max_frame=458)\n"
     ]
    }
   ],
   "source": [
    "import nglview as nv\n",
    "from nglview.contrib.movie import MovieMaker\n",
    "import pytraj as pt\n",
    "\n",
    "#t = pt.load(\"../test/static/tet_equil.pdb\")\n",
    "t = pt.iterload(\"../test/static/tetrahedral_movie.mol2\")\n",
    "\n",
    "print(t)\n",
    "view = nv.show_pytraj(t)\n",
    "\n",
    "print(view)\n",
    "\n",
    "#### this code should run as written but it takes a LOT of packages\n",
    "\n",
    "#### pip install zmq, nglview, pytraj, moviepy, & a host of dependencies!\n",
    "#### brew install ffmpeg"
   ]
  },
  {
   "cell_type": "code",
   "execution_count": 10,
   "metadata": {},
   "outputs": [
    {
     "data": {
      "application/vnd.jupyter.widget-view+json": {
       "model_id": "6bf98abadad640b4b01b1894244a7b96",
       "version_major": 2,
       "version_minor": 0
      },
      "text/plain": [
       "NGLWidget(max_frame=458)"
      ]
     },
     "metadata": {},
     "output_type": "display_data"
    }
   ],
   "source": [
    "view"
   ]
  },
  {
   "cell_type": "code",
   "execution_count": 6,
   "metadata": {},
   "outputs": [
    {
     "data": {
      "application/vnd.jupyter.widget-view+json": {
       "model_id": "c1213e32e7dc4cc3b4fcc7a461a30b8d",
       "version_major": 2,
       "version_minor": 0
      },
      "text/plain": [
       "IntProgress(value=0, description='Rendering ...', max=458)"
      ]
     },
     "metadata": {},
     "output_type": "display_data"
    }
   ],
   "source": [
    "movie = MovieMaker(view, fps=50, output=\"traj.gif\")\n",
    "movie.make()"
   ]
  }
 ],
 "metadata": {
  "kernelspec": {
   "display_name": "Python 3",
   "language": "python",
   "name": "python3"
  },
  "language_info": {
   "codemirror_mode": {
    "name": "ipython",
    "version": 3
   },
   "file_extension": ".py",
   "mimetype": "text/x-python",
   "name": "python",
   "nbconvert_exporter": "python",
   "pygments_lexer": "ipython3",
   "version": "3.7.4"
  }
 },
 "nbformat": 4,
 "nbformat_minor": 4
}
