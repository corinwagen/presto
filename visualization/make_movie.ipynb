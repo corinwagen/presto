{
 "cells": [
  {
   "cell_type": "code",
   "execution_count": 2,
   "metadata": {},
   "outputs": [
    {
     "name": "stdout",
     "output_type": "stream",
     "text": [
      "pytraj.Trajectory, 399 frames: \n",
      "Size: 0.000018 (GB)\n",
      "<Topology: 2 atoms, 1 residues, 1 mols, non-PBC>\n",
      "           \n",
      "NGLWidget(max_frame=398)\n"
     ]
    }
   ],
   "source": [
    "import nglview as nv\n",
    "from nglview.contrib.movie import MovieMaker\n",
    "import pytraj as pt\n",
    "\n",
    "t = pt.load(\"../test/static/h2.pdb\")\n",
    "print(t)\n",
    "view = nv.show_pytraj(t)\n",
    "\n",
    "print(view)\n",
    "\n",
    "#### this code should run as written but it takes a LOT of packages\n",
    "\n",
    "#### pip install zmq, nglview, pytraj, moviepy, & a host of dependencies!\n",
    "#### brew install ffmpeg"
   ]
  },
  {
   "cell_type": "code",
   "execution_count": 3,
   "metadata": {},
   "outputs": [
    {
     "data": {
      "application/vnd.jupyter.widget-view+json": {
       "model_id": "a610e1c8c89e4c229cdeabbe81e07e35",
       "version_major": 2,
       "version_minor": 0
      },
      "text/plain": [
       "NGLWidget(max_frame=398)"
      ]
     },
     "metadata": {},
     "output_type": "display_data"
    }
   ],
   "source": [
    "view"
   ]
  },
  {
   "cell_type": "code",
   "execution_count": 3,
   "metadata": {},
   "outputs": [
    {
     "data": {
      "application/vnd.jupyter.widget-view+json": {
       "model_id": "f6d4902f1ddd464e8f36a746ea85cff7",
       "version_major": 2,
       "version_minor": 0
      },
      "text/plain": [
       "IntProgress(value=0, description='Rendering ...', max=98)"
      ]
     },
     "metadata": {},
     "output_type": "display_data"
    }
   ],
   "source": [
    "movie = MovieMaker(view, output=\"traj.gif\")\n",
    "movie.make()"
   ]
  }
 ],
 "metadata": {
  "kernelspec": {
   "display_name": "Python 3",
   "language": "python",
   "name": "python3"
  },
  "language_info": {
   "codemirror_mode": {
    "name": "ipython",
    "version": 3
   },
   "file_extension": ".py",
   "mimetype": "text/x-python",
   "name": "python",
   "nbconvert_exporter": "python",
   "pygments_lexer": "ipython3",
   "version": "3.7.4"
  }
 },
 "nbformat": 4,
 "nbformat_minor": 4
}
